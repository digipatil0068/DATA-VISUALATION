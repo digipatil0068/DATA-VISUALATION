{
  "nbformat": 4,
  "nbformat_minor": 0,
  "metadata": {
    "colab": {
      "provenance": [],
      "include_colab_link": true
    },
    "kernelspec": {
      "name": "python3",
      "display_name": "Python 3"
    },
    "language_info": {
      "name": "python"
    }
  },
  "cells": [
    {
      "cell_type": "markdown",
      "metadata": {
        "id": "view-in-github",
        "colab_type": "text"
      },
      "source": [
        "<a href=\"https://colab.research.google.com/github/digipatil0068/DATA-VISUALATION/blob/main/python_class8.ipynb\" target=\"_parent\"><img src=\"https://colab.research.google.com/assets/colab-badge.svg\" alt=\"Open In Colab\"/></a>"
      ]
    },
    {
      "cell_type": "markdown",
      "source": [
        "Create a function which counts the number of vowels and consonants in a given word\n",
        "\n",
        "Vowels - a,e,i,o,u\n",
        "\n",
        "Consonants - rest other alphabets"
      ],
      "metadata": {
        "id": "_EvXYax7yKgo"
      }
    },
    {
      "cell_type": "code",
      "execution_count": null,
      "metadata": {
        "id": "5SfcYycIxfY5"
      },
      "outputs": [],
      "source": [
        "def count(word):\n",
        "  vowel_counter=0\n",
        "  consonant_counter=0\n",
        "\n",
        "  for i in word:\n",
        "    if i in ('a','A','e','E','i','I','o','O','u','U'):\n",
        "      vowel_counter=vowel_counter+1\n",
        "\n",
        "    else:\n",
        "      consonant_counter=consonant_counter+1\n",
        "\n",
        "  print(\"number of vowels\", vowel_counter)\n",
        "  print(\"number of consonants\",consonant_counter)"
      ]
    },
    {
      "cell_type": "code",
      "source": [
        "count(\"India\")"
      ],
      "metadata": {
        "colab": {
          "base_uri": "https://localhost:8080/"
        },
        "id": "mwRi7GKZzvsl",
        "outputId": "b931e365-adc8-4aa9-9e0a-1327391ee396"
      },
      "execution_count": null,
      "outputs": [
        {
          "output_type": "stream",
          "name": "stdout",
          "text": [
            "number of vowels 3\n",
            "number of consonants 2\n"
          ]
        }
      ]
    },
    {
      "cell_type": "code",
      "source": [
        "count(\"United States\")"
      ],
      "metadata": {
        "colab": {
          "base_uri": "https://localhost:8080/"
        },
        "id": "UKyDlm5Rz1vT",
        "outputId": "89a4eff3-3efc-4635-a246-c3cbca8f6818"
      },
      "execution_count": null,
      "outputs": [
        {
          "output_type": "stream",
          "name": "stdout",
          "text": [
            "number of vowels 5\n",
            "number of consonants 8\n"
          ]
        }
      ]
    },
    {
      "cell_type": "code",
      "source": [
        "count(\"India\")"
      ],
      "metadata": {
        "colab": {
          "base_uri": "https://localhost:8080/"
        },
        "id": "1KmAmS-f2oBD",
        "outputId": "de9fd45f-ff57-4592-c1e9-1700591d247c"
      },
      "execution_count": null,
      "outputs": [
        {
          "output_type": "stream",
          "name": "stdout",
          "text": [
            "no of vowel 3\n",
            "no of cons 2\n"
          ]
        }
      ]
    },
    {
      "cell_type": "markdown",
      "source": [
        "Types of argument"
      ],
      "metadata": {
        "id": "BOVCrR0h7Mqk"
      }
    },
    {
      "cell_type": "markdown",
      "source": [
        "1. Default arguments\n",
        "\n",
        "2. Arbitrary arguments\n",
        "\n",
        "3. Keyword arguments\n",
        "\n",
        "4. Arbitrary keyword arguments"
      ],
      "metadata": {
        "id": "gLFCfgtE77Cd"
      }
    },
    {
      "cell_type": "markdown",
      "source": [
        "Default arguments"
      ],
      "metadata": {
        "id": "HOgKwtwV8MD_"
      }
    },
    {
      "cell_type": "markdown",
      "source": [
        "Create a function which greets \"Good morning\" to the customer by using his/her name.\n",
        "\n",
        "Incase the name is not provided, call the customer by the name \"User\""
      ],
      "metadata": {
        "id": "WjT598f38OO5"
      }
    },
    {
      "cell_type": "code",
      "source": [
        "def func(name='User'):\n",
        "  print(\"Good morning\",name)"
      ],
      "metadata": {
        "id": "-N_z7IDi6IEv"
      },
      "execution_count": null,
      "outputs": []
    },
    {
      "cell_type": "code",
      "source": [
        "func(\"Meera\")"
      ],
      "metadata": {
        "colab": {
          "base_uri": "https://localhost:8080/"
        },
        "id": "AcaawJO78KgG",
        "outputId": "ca5d4e97-7901-4347-f15d-099e99a088c1"
      },
      "execution_count": null,
      "outputs": [
        {
          "output_type": "stream",
          "name": "stdout",
          "text": [
            "Good morning Meera\n"
          ]
        }
      ]
    },
    {
      "cell_type": "code",
      "source": [
        "func(\"Rahul\")"
      ],
      "metadata": {
        "colab": {
          "base_uri": "https://localhost:8080/"
        },
        "id": "3UQLiXWt8u17",
        "outputId": "7d234c56-6265-459a-c02a-e930606ba8e9"
      },
      "execution_count": null,
      "outputs": [
        {
          "output_type": "stream",
          "name": "stdout",
          "text": [
            "Good morning Rahul\n"
          ]
        }
      ]
    },
    {
      "cell_type": "code",
      "source": [
        "func()"
      ],
      "metadata": {
        "colab": {
          "base_uri": "https://localhost:8080/"
        },
        "id": "s8f_pwpS8xIc",
        "outputId": "5e82e9ad-d438-4bdb-85a3-19b175292693"
      },
      "execution_count": null,
      "outputs": [
        {
          "output_type": "stream",
          "name": "stdout",
          "text": [
            "Good morning User\n"
          ]
        }
      ]
    },
    {
      "cell_type": "markdown",
      "source": [
        "Arbitrary arguments\n",
        "\n",
        "1. Here the number of parameters are unknown to us\n",
        "\n",
        "2. In order to accept any number of parameters from the user, we use * symbol along with the name of the parameter\n",
        "\n",
        "3. Arbitrary arguments are also called as *args"
      ],
      "metadata": {
        "id": "kVM5QdBQ9Hwm"
      }
    },
    {
      "cell_type": "code",
      "source": [
        "def func1(*child):\n",
        "  print(\"Youngest child is\",child[2])"
      ],
      "metadata": {
        "id": "wOC0ruro8y-O"
      },
      "execution_count": null,
      "outputs": []
    },
    {
      "cell_type": "code",
      "source": [
        "func1(\"Ram\",\"Shyam\",\"Mohan\",\"Maadhav\",\"Riya\")"
      ],
      "metadata": {
        "colab": {
          "base_uri": "https://localhost:8080/"
        },
        "id": "4Rf7Pzl4_5py",
        "outputId": "70ab9638-1823-44d4-cefd-7efffafd3b58"
      },
      "execution_count": null,
      "outputs": [
        {
          "output_type": "stream",
          "name": "stdout",
          "text": [
            "Youngest child is Mohan\n"
          ]
        }
      ]
    },
    {
      "cell_type": "code",
      "source": [
        "func1(\"George\",\"John\",\"Mike\")"
      ],
      "metadata": {
        "colab": {
          "base_uri": "https://localhost:8080/"
        },
        "id": "h-ox6NAzAAri",
        "outputId": "57b006c3-334b-4e7d-8613-05db40235207"
      },
      "execution_count": null,
      "outputs": [
        {
          "output_type": "stream",
          "name": "stdout",
          "text": [
            "Youngest child is Mike\n"
          ]
        }
      ]
    },
    {
      "cell_type": "code",
      "source": [
        "def greet(*names):\n",
        "    print(\"Good morning\",names)"
      ],
      "metadata": {
        "id": "XTCdLSolAGWJ"
      },
      "execution_count": null,
      "outputs": []
    },
    {
      "cell_type": "code",
      "source": [
        "greet(\"Ravi\",\"Rahul\",\"Suman\")"
      ],
      "metadata": {
        "colab": {
          "base_uri": "https://localhost:8080/"
        },
        "id": "7isZBE2lAxjm",
        "outputId": "0b1a1c0a-1076-4256-8a6c-7b3edeb9086d"
      },
      "execution_count": null,
      "outputs": [
        {
          "output_type": "stream",
          "name": "stdout",
          "text": [
            "Good morning ('Ravi', 'Rahul', 'Suman')\n"
          ]
        }
      ]
    },
    {
      "cell_type": "markdown",
      "source": [
        "Keyword arguments\n",
        "\n",
        "1. Here the number of parameters are known to us\n",
        "\n",
        "2. While calling the function, we provide the input in the form of key value pair\n",
        "\n",
        "3. Order of parameter does not play a role while defining also while calling"
      ],
      "metadata": {
        "id": "yMc2AzMhCzgA"
      }
    },
    {
      "cell_type": "code",
      "source": [
        "def func2(child3, child1, child2):\n",
        "  print(\"youngest child is\",child3)"
      ],
      "metadata": {
        "id": "7b_2zKJHA278"
      },
      "execution_count": null,
      "outputs": []
    },
    {
      "cell_type": "code",
      "source": [
        "func2(child1='Ram',child2='Shyam',child3='Meera')"
      ],
      "metadata": {
        "colab": {
          "base_uri": "https://localhost:8080/"
        },
        "id": "5pCOkF2ID-PT",
        "outputId": "061fb4ce-8f4c-46df-b224-93016124f856"
      },
      "execution_count": null,
      "outputs": [
        {
          "output_type": "stream",
          "name": "stdout",
          "text": [
            "youngest child is Meera\n"
          ]
        }
      ]
    },
    {
      "cell_type": "code",
      "source": [
        "def func2(third, first, second):\n",
        "  print(\"youngest child is\",third)"
      ],
      "metadata": {
        "id": "YDzB4NqnEJOg"
      },
      "execution_count": null,
      "outputs": []
    },
    {
      "cell_type": "code",
      "source": [
        "func2(first='Ram',second='Shyam',third='Meera')"
      ],
      "metadata": {
        "colab": {
          "base_uri": "https://localhost:8080/"
        },
        "id": "raNWiX1bGZe4",
        "outputId": "105ed470-af72-4b89-cb51-7cbafbffff4f"
      },
      "execution_count": null,
      "outputs": [
        {
          "output_type": "stream",
          "name": "stdout",
          "text": [
            "youngest child is Meera\n"
          ]
        }
      ]
    },
    {
      "cell_type": "code",
      "source": [
        "func2(second='Shyam',first='Ram',third='Meera')"
      ],
      "metadata": {
        "colab": {
          "base_uri": "https://localhost:8080/"
        },
        "id": "KbyOjqcSGfqe",
        "outputId": "3450dbaa-3f5d-4780-a8d2-442e5ba7bb25"
      },
      "execution_count": null,
      "outputs": [
        {
          "output_type": "stream",
          "name": "stdout",
          "text": [
            "youngest child is Meera\n"
          ]
        }
      ]
    },
    {
      "cell_type": "markdown",
      "source": [
        "Arbitrary keyword arguments\n",
        "\n",
        "1. Here the number of parameters are unknown to us\n",
        "\n",
        "2. While calling the function, we provide the input in the form of key value pair\n",
        "\n",
        "3. We use ** symbol along with the name of the parameter\n",
        "\n",
        "4. Arbitrary keyword arguments are also called **kwargs"
      ],
      "metadata": {
        "id": "ND7TgPw1HLJ1"
      }
    },
    {
      "cell_type": "code",
      "source": [
        "def func3(**names):\n",
        "  print(\"His last name\",names['lname'])"
      ],
      "metadata": {
        "id": "fwSVlRqIGwQZ"
      },
      "execution_count": null,
      "outputs": []
    },
    {
      "cell_type": "code",
      "source": [
        "func3(fname='Aashutosh',mname='Kumar',lname='Mishra')"
      ],
      "metadata": {
        "colab": {
          "base_uri": "https://localhost:8080/"
        },
        "id": "1gPCcXG1Nhlk",
        "outputId": "24fb5146-dea0-476b-af07-b6802cdbcd0c"
      },
      "execution_count": null,
      "outputs": [
        {
          "output_type": "stream",
          "name": "stdout",
          "text": [
            "His last name Mishra\n"
          ]
        }
      ]
    },
    {
      "cell_type": "code",
      "source": [
        "func3(fname='Abhishek',lname='Singh')"
      ],
      "metadata": {
        "colab": {
          "base_uri": "https://localhost:8080/"
        },
        "id": "l79Z3afbOOea",
        "outputId": "ec91e320-01ae-479c-b0df-5e386ccfc6c2"
      },
      "execution_count": null,
      "outputs": [
        {
          "output_type": "stream",
          "name": "stdout",
          "text": [
            "His last name Singh\n"
          ]
        }
      ]
    },
    {
      "cell_type": "code",
      "source": [
        "func3(fname='Kunal',lname='NONE')"
      ],
      "metadata": {
        "colab": {
          "base_uri": "https://localhost:8080/"
        },
        "id": "dbiv4WHCNrsg",
        "outputId": "fc37c6d3-b7c2-45b6-a2ee-99e73aec4494"
      },
      "execution_count": null,
      "outputs": [
        {
          "output_type": "stream",
          "name": "stdout",
          "text": [
            "His last name NONE\n"
          ]
        }
      ]
    },
    {
      "cell_type": "markdown",
      "source": [
        "Recursion"
      ],
      "metadata": {
        "id": "D2c83v60O3ac"
      }
    },
    {
      "cell_type": "markdown",
      "source": [
        "Create a function which calculates the factorial of a number"
      ],
      "metadata": {
        "id": "67vWHynSXHrm"
      }
    },
    {
      "cell_type": "code",
      "source": [
        "def factorial(n):\n",
        "\n",
        "  if n<0:\n",
        "    print(0)\n",
        "\n",
        "  elif n==1 or n==0:\n",
        "    print(1)\n",
        "\n",
        "  else:\n",
        "    fact=1\n",
        "    while n>1:\n",
        "      fact=fact*n\n",
        "      n=n-1\n",
        "    print(fact)"
      ],
      "metadata": {
        "id": "OfdxlkQKa3P8"
      },
      "execution_count": null,
      "outputs": []
    },
    {
      "cell_type": "code",
      "source": [
        "factorial(5)"
      ],
      "metadata": {
        "colab": {
          "base_uri": "https://localhost:8080/"
        },
        "id": "pmh4Nf9Tb1d1",
        "outputId": "d8700ac7-2c61-4595-8139-dd4468318ac3"
      },
      "execution_count": null,
      "outputs": [
        {
          "output_type": "stream",
          "name": "stdout",
          "text": [
            "120\n"
          ]
        }
      ]
    },
    {
      "cell_type": "code",
      "source": [],
      "metadata": {
        "id": "OMOU3yBab3q0"
      },
      "execution_count": null,
      "outputs": []
    }
  ]
}