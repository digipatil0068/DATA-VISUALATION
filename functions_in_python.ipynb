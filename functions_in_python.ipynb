{
  "nbformat": 4,
  "nbformat_minor": 0,
  "metadata": {
    "colab": {
      "provenance": [],
      "authorship_tag": "ABX9TyMj6VCKsmAG9oX1JC4EKBHC",
      "include_colab_link": true
    },
    "kernelspec": {
      "name": "python3",
      "display_name": "Python 3"
    },
    "language_info": {
      "name": "python"
    }
  },
  "cells": [
    {
      "cell_type": "markdown",
      "metadata": {
        "id": "view-in-github",
        "colab_type": "text"
      },
      "source": [
        "<a href=\"https://colab.research.google.com/github/digipatil0068/DATA-VISUALATION/blob/main/functions_in_python.ipynb\" target=\"_parent\"><img src=\"https://colab.research.google.com/assets/colab-badge.svg\" alt=\"Open In Colab\"/></a>"
      ]
    },
    {
      "cell_type": "code",
      "execution_count": null,
      "metadata": {
        "colab": {
          "base_uri": "https://localhost:8080/"
        },
        "id": "ChXseK2iG1I0",
        "outputId": "0247953c-e607-4e31-82d8-c402287ad5b0"
      },
      "outputs": [
        {
          "output_type": "stream",
          "name": "stdout",
          "text": [
            "4\n",
            "9\n",
            "16\n",
            "25\n",
            "36\n",
            "49\n",
            "64\n"
          ]
        }
      ],
      "source": [
        "l1=[2,3,4,5,6,7,8]\n",
        "\n",
        "for i in l1:\n",
        "  print(i*i)"
      ]
    },
    {
      "cell_type": "code",
      "source": [
        "l1=[3,4,5,67,7,6,78,66,5,12,14]\n",
        "\n",
        "for i in l1:\n",
        "  if i%2==0:\n",
        "    print(i)\n",
        "\n",
        "else:\n",
        "    pass\n"
      ],
      "metadata": {
        "colab": {
          "base_uri": "https://localhost:8080/"
        },
        "id": "D8YWYqATG4Me",
        "outputId": "aaa408d8-b9c4-4e9a-cb4e-d2e371dce21a"
      },
      "execution_count": null,
      "outputs": [
        {
          "output_type": "stream",
          "name": "stdout",
          "text": [
            "4\n",
            "6\n",
            "78\n",
            "66\n",
            "12\n",
            "14\n"
          ]
        }
      ]
    },
    {
      "cell_type": "code",
      "source": [
        "l1=[3,4,5,67,7,6,78,66,5,12,14]\n",
        "\n",
        "count=0 # counter\n",
        "\n",
        "for i in l1:\n",
        "  if i%2==0:\n",
        "    count=count+1\n",
        "print('the total namber of even numbers in the list are',count)"
      ],
      "metadata": {
        "colab": {
          "base_uri": "https://localhost:8080/"
        },
        "id": "fA0srxgOJ-9a",
        "outputId": "305343d7-b0d4-4c03-9963-138d9a1723eb"
      },
      "execution_count": null,
      "outputs": [
        {
          "output_type": "stream",
          "name": "stdout",
          "text": [
            "the total namber of even numbers in the list are 6\n"
          ]
        }
      ]
    },
    {
      "cell_type": "code",
      "source": [
        "l1=[3,4,5,67,7,6,78,66,5,12,14]\n",
        "\n",
        "count_even=0 # counter\n",
        "count_odd=0\n",
        "for i in l1:\n",
        "  if i%2==0:\n",
        "    count_even=count_even+1\n",
        "  else:\n",
        "    count_odd=count_odd+1\n",
        "print('the total namber of even numbers in the list are',count_even)\n",
        "\n",
        "print('the total namber of odd numbers in the list are',count_odd)\n"
      ],
      "metadata": {
        "colab": {
          "base_uri": "https://localhost:8080/"
        },
        "id": "r72gvwgoS1Hb",
        "outputId": "691efe00-0073-46c7-d93c-f40dcf8490b0"
      },
      "execution_count": null,
      "outputs": [
        {
          "output_type": "stream",
          "name": "stdout",
          "text": [
            "the total namber of even numbers in the list are 6\n",
            "the total namber of odd numbers in the list are 5\n"
          ]
        }
      ]
    },
    {
      "cell_type": "code",
      "source": [
        "no=int(input(\"enter the number\"))\n",
        "\n",
        "for i in range(1,11):\n",
        "  print(no*i)\n",
        "\n"
      ],
      "metadata": {
        "colab": {
          "base_uri": "https://localhost:8080/"
        },
        "id": "l2GroJPxS1As",
        "outputId": "23e870a2-a630-4601-9a25-a9ab6976b46d"
      },
      "execution_count": null,
      "outputs": [
        {
          "output_type": "stream",
          "name": "stdout",
          "text": [
            "enter the number45\n",
            "45\n",
            "90\n",
            "135\n",
            "180\n",
            "225\n",
            "270\n",
            "315\n",
            "360\n",
            "405\n",
            "450\n"
          ]
        }
      ]
    },
    {
      "cell_type": "code",
      "source": [
        "no=int(input(\"enter the number\"))\n",
        "sum=0\n",
        "avg=0\n",
        "\n",
        "for i in range(1,no+1):\n",
        "  sum=sum+i\n",
        "  avg=sum/no\n",
        "print(sum)\n",
        "print(avg)"
      ],
      "metadata": {
        "colab": {
          "base_uri": "https://localhost:8080/"
        },
        "id": "Tk4IHgBhXzGd",
        "outputId": "a2946396-6c27-4a4c-a8df-199447f4cce3"
      },
      "execution_count": null,
      "outputs": [
        {
          "output_type": "stream",
          "name": "stdout",
          "text": [
            "enter the number10\n",
            "55\n",
            "5.5\n"
          ]
        }
      ]
    },
    {
      "cell_type": "code",
      "source": [
        "for i in range (1,11):\n",
        "  if i==3 or i==7:\n",
        "    continue\n",
        "  print (i)"
      ],
      "metadata": {
        "colab": {
          "base_uri": "https://localhost:8080/"
        },
        "id": "Zqq2UzF8Z-Lc",
        "outputId": "27f6b3c2-96f9-4277-bc62-2eb504246a8d"
      },
      "execution_count": null,
      "outputs": [
        {
          "output_type": "stream",
          "name": "stdout",
          "text": [
            "1\n",
            "2\n",
            "4\n",
            "5\n",
            "6\n",
            "8\n",
            "9\n",
            "10\n"
          ]
        }
      ]
    },
    {
      "cell_type": "code",
      "source": [
        "#l1=[2,3,4,5,6,7,8]\n",
        "l2=[]\n",
        "\n",
        "for i in range(1,11):\n",
        "   square=i*i\n",
        "   l2.append(square)\n",
        "\n",
        "print(l2)"
      ],
      "metadata": {
        "colab": {
          "base_uri": "https://localhost:8080/"
        },
        "id": "OX_Lz2YXSUr9",
        "outputId": "2e62241a-4a68-49c1-c7f7-46faa875ec55"
      },
      "execution_count": null,
      "outputs": [
        {
          "output_type": "stream",
          "name": "stdout",
          "text": [
            "[1, 4, 9, 16, 25, 36, 49, 64, 81, 100]\n"
          ]
        }
      ]
    },
    {
      "cell_type": "markdown",
      "source": [],
      "metadata": {
        "id": "qccTi3g4Ursh"
      }
    },
    {
      "cell_type": "markdown",
      "source": [
        "# Built in Functions"
      ],
      "metadata": {
        "id": "40TMoLopeg27"
      }
    },
    {
      "cell_type": "code",
      "source": [
        "a= abs(-10.75)"
      ],
      "metadata": {
        "id": "GpjpbBixenmR"
      },
      "execution_count": null,
      "outputs": []
    },
    {
      "cell_type": "code",
      "source": [
        "  a"
      ],
      "metadata": {
        "colab": {
          "base_uri": "https://localhost:8080/"
        },
        "id": "37lmJg6Rd3Cm",
        "outputId": "a460904f-41bd-4c94-e1fe-b80483c679fa"
      },
      "execution_count": null,
      "outputs": [
        {
          "output_type": "execute_result",
          "data": {
            "text/plain": [
              "10.75"
            ]
          },
          "metadata": {},
          "execution_count": 3
        }
      ]
    },
    {
      "cell_type": "code",
      "source": [
        "# len\n",
        "list1=['I','N','D','I','A']\n",
        "x= len(list1)\n",
        "x"
      ],
      "metadata": {
        "colab": {
          "base_uri": "https://localhost:8080/"
        },
        "id": "8EEq8wpte6Wi",
        "outputId": "306b5149-16d5-4547-e8d0-fa798bd432ef"
      },
      "execution_count": null,
      "outputs": [
        {
          "output_type": "execute_result",
          "data": {
            "text/plain": [
              "5"
            ]
          },
          "metadata": {},
          "execution_count": 6
        }
      ]
    },
    {
      "cell_type": "code",
      "source": [
        "#all\n",
        "my_list=[1,1,2,78]\n",
        "x=all(my_list)\n",
        "x"
      ],
      "metadata": {
        "colab": {
          "base_uri": "https://localhost:8080/"
        },
        "id": "rqkuAStDfUuY",
        "outputId": "b2203864-3b78-4667-df5a-1b4fa677d0d2"
      },
      "execution_count": null,
      "outputs": [
        {
          "output_type": "execute_result",
          "data": {
            "text/plain": [
              "True"
            ]
          },
          "metadata": {},
          "execution_count": 15
        }
      ]
    },
    {
      "cell_type": "code",
      "source": [
        "# sum\n",
        "s=sum([20,35,70,80])\n",
        "s1=sum((7,4,-23,45))\n",
        "print(s)\n",
        "print(s1)"
      ],
      "metadata": {
        "colab": {
          "base_uri": "https://localhost:8080/"
        },
        "id": "HlGYPeAffvtf",
        "outputId": "a087204a-8d74-4bb4-b3c4-5b8c783b5345"
      },
      "execution_count": null,
      "outputs": [
        {
          "output_type": "stream",
          "name": "stdout",
          "text": [
            "205\n",
            "33\n"
          ]
        }
      ]
    },
    {
      "cell_type": "code",
      "source": [
        "# max and min\n",
        "m1=max(7,10,3,12,61,40)\n",
        "print(m1)"
      ],
      "metadata": {
        "colab": {
          "base_uri": "https://localhost:8080/"
        },
        "id": "XLaAIoxTgn5u",
        "outputId": "c34c503c-98b8-465a-8498-2a6aaf487445"
      },
      "execution_count": null,
      "outputs": [
        {
          "output_type": "stream",
          "name": "stdout",
          "text": [
            "61\n"
          ]
        }
      ]
    },
    {
      "cell_type": "code",
      "source": [
        "m2=min([34,34,235,-343])\n",
        "print(m2)"
      ],
      "metadata": {
        "colab": {
          "base_uri": "https://localhost:8080/"
        },
        "id": "HJBfU-gyg8Kn",
        "outputId": "c9520106-df54-4f18-9b94-4bebc5dc278c"
      },
      "execution_count": null,
      "outputs": [
        {
          "output_type": "stream",
          "name": "stdout",
          "text": [
            "-343\n"
          ]
        }
      ]
    },
    {
      "cell_type": "code",
      "source": [
        "#iter()\n",
        "l1=iter(['I','N','D','I','A'])\n",
        "x=next(l1)\n",
        "print(x)"
      ],
      "metadata": {
        "colab": {
          "base_uri": "https://localhost:8080/"
        },
        "id": "SlvzCxlahPDM",
        "outputId": "5e77bf0f-d2ac-4bfc-8d0a-40503db44e76"
      },
      "execution_count": null,
      "outputs": [
        {
          "output_type": "stream",
          "name": "stdout",
          "text": [
            "I\n"
          ]
        }
      ]
    },
    {
      "cell_type": "code",
      "source": [
        "x=next(l1)\n",
        "print(x)"
      ],
      "metadata": {
        "colab": {
          "base_uri": "https://localhost:8080/"
        },
        "id": "HO0HWCZrk8bZ",
        "outputId": "ae3d9011-3998-49bd-bdca-311a1ec3391f"
      },
      "execution_count": null,
      "outputs": [
        {
          "output_type": "stream",
          "name": "stdout",
          "text": [
            "N\n"
          ]
        }
      ]
    },
    {
      "cell_type": "code",
      "source": [
        "x=next(l1)\n",
        "print(x)"
      ],
      "metadata": {
        "colab": {
          "base_uri": "https://localhost:8080/"
        },
        "id": "DYb2sCdnlLPj",
        "outputId": "bd540813-373c-4895-8b13-1b1e20cb92b3"
      },
      "execution_count": null,
      "outputs": [
        {
          "output_type": "stream",
          "name": "stdout",
          "text": [
            "D\n"
          ]
        }
      ]
    },
    {
      "cell_type": "code",
      "source": [
        "#Pow()\n",
        "x1=pow(3,3)\n",
        "x2=pow(2,4)\n",
        "print(x1)\n",
        "print(x2)"
      ],
      "metadata": {
        "colab": {
          "base_uri": "https://localhost:8080/"
        },
        "id": "2ZTntT_MlPRG",
        "outputId": "7baace78-7295-46ac-a566-91839d0c9d5b"
      },
      "execution_count": null,
      "outputs": [
        {
          "output_type": "stream",
          "name": "stdout",
          "text": [
            "27\n",
            "16\n"
          ]
        }
      ]
    },
    {
      "cell_type": "code",
      "source": [
        "#range()\n",
        "x= range(10)\n",
        "for n in x:\n",
        "  print(n)"
      ],
      "metadata": {
        "colab": {
          "base_uri": "https://localhost:8080/"
        },
        "id": "ISDsSPUGlhx2",
        "outputId": "2bcb7294-9f0e-4d27-8d49-8f07765b8ea8"
      },
      "execution_count": null,
      "outputs": [
        {
          "output_type": "stream",
          "name": "stdout",
          "text": [
            "0\n",
            "1\n",
            "2\n",
            "3\n",
            "4\n",
            "5\n",
            "6\n",
            "7\n",
            "8\n",
            "9\n"
          ]
        }
      ]
    },
    {
      "cell_type": "code",
      "source": [
        "x= range(10,50,3)\n",
        "for n in x:\n",
        "  print(n)"
      ],
      "metadata": {
        "colab": {
          "base_uri": "https://localhost:8080/"
        },
        "id": "W9PTDM1Ul4_J",
        "outputId": "8d779c81-af09-4078-d488-c5c6b97e930b"
      },
      "execution_count": null,
      "outputs": [
        {
          "output_type": "stream",
          "name": "stdout",
          "text": [
            "10\n",
            "13\n",
            "16\n",
            "19\n",
            "22\n",
            "25\n",
            "28\n",
            "31\n",
            "34\n",
            "37\n",
            "40\n",
            "43\n",
            "46\n",
            "49\n"
          ]
        }
      ]
    },
    {
      "cell_type": "code",
      "source": [
        "#sorted()\n",
        "a=['i','n','d','a']\n",
        "x=sorted(a)\n",
        "print(x)"
      ],
      "metadata": {
        "colab": {
          "base_uri": "https://localhost:8080/"
        },
        "id": "2upvoDMYmBzI",
        "outputId": "40d8da7a-625b-4e18-ed85-36eae5def441"
      },
      "execution_count": null,
      "outputs": [
        {
          "output_type": "stream",
          "name": "stdout",
          "text": [
            "['a', 'd', 'i', 'n']\n"
          ]
        }
      ]
    },
    {
      "cell_type": "code",
      "source": [
        "a=['i','n','d','a']\n",
        "x=sorted(a,reverse= True)\n",
        "print(x)"
      ],
      "metadata": {
        "colab": {
          "base_uri": "https://localhost:8080/"
        },
        "id": "GVWmRzcwwBBS",
        "outputId": "0d7dd3a6-0b0e-48cc-c750-fa23ab42768e"
      },
      "execution_count": null,
      "outputs": [
        {
          "output_type": "stream",
          "name": "stdout",
          "text": [
            "['n', 'i', 'd', 'a']\n"
          ]
        }
      ]
    },
    {
      "cell_type": "code",
      "source": [
        "a=[2,5,3,5,543,56,25,4,1,6,4]\n",
        "x=sorted(a,reverse=True)\n",
        "print(x)"
      ],
      "metadata": {
        "colab": {
          "base_uri": "https://localhost:8080/"
        },
        "id": "2Mf36fy4wOzM",
        "outputId": "7aa559c2-692a-4771-bc2c-b03f02ee9858"
      },
      "execution_count": null,
      "outputs": [
        {
          "output_type": "stream",
          "name": "stdout",
          "text": [
            "[543, 56, 25, 6, 5, 5, 4, 4, 3, 2, 1]\n"
          ]
        }
      ]
    },
    {
      "cell_type": "code",
      "source": [
        "#slice()\n",
        "a=(\"s\",\"d\",\"r\",\"e\",\"y\",\"w\",\"t\")\n",
        "x=slice(5)\n",
        "print(a[x])"
      ],
      "metadata": {
        "colab": {
          "base_uri": "https://localhost:8080/"
        },
        "id": "Fm8N0o8CwmpN",
        "outputId": "a42de803-af99-41cd-98f1-ca641346ece0"
      },
      "execution_count": null,
      "outputs": [
        {
          "output_type": "stream",
          "name": "stdout",
          "text": [
            "('s', 'd', 'r', 'e', 'y')\n"
          ]
        }
      ]
    },
    {
      "cell_type": "code",
      "source": [
        "#user defined function\n",
        "def func1():\n",
        "  print(\"Hello World\")\n",
        "\n",
        "func1()"
      ],
      "metadata": {
        "colab": {
          "base_uri": "https://localhost:8080/"
        },
        "id": "DsDSCcH4yDCk",
        "outputId": "ac14942b-0914-4d4c-8a7d-b02b8fbbb1e3"
      },
      "execution_count": null,
      "outputs": [
        {
          "output_type": "stream",
          "name": "stdout",
          "text": [
            "Hello World\n"
          ]
        }
      ]
    },
    {
      "cell_type": "code",
      "source": [
        "def hello():\n",
        "  name=str(input(\"Enter your country name:\"))\n",
        "  print(\"Hello\"+str(name))"
      ],
      "metadata": {
        "id": "vOHokhUWzw-F"
      },
      "execution_count": null,
      "outputs": []
    },
    {
      "cell_type": "code",
      "source": [
        "hello()"
      ],
      "metadata": {
        "colab": {
          "base_uri": "https://localhost:8080/"
        },
        "id": "zobzhcJQ0a1t",
        "outputId": "c499e5d9-1cf1-4c40-a346-61748c924554"
      },
      "execution_count": null,
      "outputs": [
        {
          "output_type": "stream",
          "name": "stdout",
          "text": [
            "Enter your country name: USA\n",
            "Hello USA\n"
          ]
        }
      ]
    },
    {
      "cell_type": "code",
      "source": [
        "def ft_to_cm(ft):\n",
        "  centimeter = ft * 30.48\n",
        "  return centimeter"
      ],
      "metadata": {
        "id": "InYqwgWO09DZ"
      },
      "execution_count": null,
      "outputs": []
    },
    {
      "cell_type": "code",
      "source": [
        "ft_to_cm(4)"
      ],
      "metadata": {
        "colab": {
          "base_uri": "https://localhost:8080/"
        },
        "id": "fJGGcWBV1lEJ",
        "outputId": "7eaa5be1-bd61-4d54-e3ec-ec6b8c32d834"
      },
      "execution_count": null,
      "outputs": [
        {
          "data": {
            "text/plain": [
              "121.92"
            ]
          },
          "execution_count": 58,
          "metadata": {},
          "output_type": "execute_result"
        }
      ]
    },
    {
      "cell_type": "code",
      "source": [],
      "metadata": {
        "id": "MNNJFFXO2PY_"
      },
      "execution_count": null,
      "outputs": []
    }
  ]
}