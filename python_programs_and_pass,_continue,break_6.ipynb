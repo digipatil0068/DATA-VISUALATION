{
  "nbformat": 4,
  "nbformat_minor": 0,
  "metadata": {
    "colab": {
      "provenance": [],
      "include_colab_link": true
    },
    "kernelspec": {
      "name": "python3",
      "display_name": "Python 3"
    },
    "language_info": {
      "name": "python"
    }
  },
  "cells": [
    {
      "cell_type": "markdown",
      "metadata": {
        "id": "view-in-github",
        "colab_type": "text"
      },
      "source": [
        "<a href=\"https://colab.research.google.com/github/digipatil0068/DATA-VISUALATION/blob/main/python_programs_and_pass%2C_continue%2Cbreak_6.ipynb\" target=\"_parent\"><img src=\"https://colab.research.google.com/assets/colab-badge.svg\" alt=\"Open In Colab\"/></a>"
      ]
    },
    {
      "cell_type": "markdown",
      "source": [
        "How many times the loop is going to get executed"
      ],
      "metadata": {
        "id": "KUFDFYeXvmxv"
      }
    },
    {
      "cell_type": "code",
      "execution_count": null,
      "metadata": {
        "id": "_ipvfXUStanC"
      },
      "outputs": [],
      "source": [
        "c=0\n",
        "\n",
        "while c<20:\n",
        "  c=c+2"
      ]
    },
    {
      "cell_type": "markdown",
      "source": [
        "Print first ten numbers"
      ],
      "metadata": {
        "id": "CKoEJJ0Ov7Jm"
      }
    },
    {
      "cell_type": "code",
      "source": [
        "for i in range(1,11):\n",
        "  print(i)"
      ],
      "metadata": {
        "colab": {
          "base_uri": "https://localhost:8080/"
        },
        "id": "BvRYgsANv09Y",
        "outputId": "006d8f53-80bb-4d95-a7c8-8af095ceb594"
      },
      "execution_count": null,
      "outputs": [
        {
          "output_type": "stream",
          "name": "stdout",
          "text": [
            "1\n",
            "2\n",
            "3\n",
            "4\n",
            "5\n",
            "6\n",
            "7\n",
            "8\n",
            "9\n",
            "10\n"
          ]
        }
      ]
    },
    {
      "cell_type": "markdown",
      "source": [
        "Take a list of your choice and display the elements one by one"
      ],
      "metadata": {
        "id": "pl4C0Xz7wHLF"
      }
    },
    {
      "cell_type": "code",
      "source": [
        "l1=[4,5,6,2,'India','Israel',5,9,3]\n",
        "\n",
        "for i in l1:\n",
        "  print(i)"
      ],
      "metadata": {
        "colab": {
          "base_uri": "https://localhost:8080/"
        },
        "id": "jnSEZXrnwCXn",
        "outputId": "ac6746ec-0f33-4c5f-b1d8-251ec8a2d5e0"
      },
      "execution_count": null,
      "outputs": [
        {
          "output_type": "stream",
          "name": "stdout",
          "text": [
            "4\n",
            "5\n",
            "6\n",
            "2\n",
            "India\n",
            "Israel\n",
            "5\n",
            "9\n",
            "3\n"
          ]
        }
      ]
    },
    {
      "cell_type": "markdown",
      "source": [
        "Take a list of numbers and square all the elements given in the list"
      ],
      "metadata": {
        "id": "6r_ys2V_w6rn"
      }
    },
    {
      "cell_type": "code",
      "source": [
        "l1=[2,3,4,5,8,7,6]\n",
        "\n",
        "for i in l1:\n",
        "  print(i*i)"
      ],
      "metadata": {
        "colab": {
          "base_uri": "https://localhost:8080/"
        },
        "id": "zdNM4AxwwZiv",
        "outputId": "4f3d39b1-8867-4e24-c40e-a7d3f592c584"
      },
      "execution_count": null,
      "outputs": [
        {
          "output_type": "stream",
          "name": "stdout",
          "text": [
            "4\n",
            "9\n",
            "16\n",
            "25\n",
            "64\n",
            "49\n",
            "36\n"
          ]
        }
      ]
    },
    {
      "cell_type": "markdown",
      "source": [
        "Take a list of numbers and append the squares in a separate list"
      ],
      "metadata": {
        "id": "PaLWNhUKUX5B"
      }
    },
    {
      "cell_type": "code",
      "source": [
        "#l1=[2,3,4,5,8,7,6]\n",
        "l2=[] #empty list\n",
        "\n",
        "for i in range(1,6):\n",
        "  square=i*i\n",
        "  l2.append(square)\n",
        "\n",
        "print(l2)"
      ],
      "metadata": {
        "colab": {
          "base_uri": "https://localhost:8080/"
        },
        "id": "P1Fo7xG4UXod",
        "outputId": "dd01c564-6b27-495d-b086-337aa33ae8ac"
      },
      "execution_count": null,
      "outputs": [
        {
          "output_type": "stream",
          "name": "stdout",
          "text": [
            "[1, 4, 9, 16, 25]\n"
          ]
        }
      ]
    },
    {
      "cell_type": "code",
      "source": [
        "l=[1,2,3,4,5,6,7]\n",
        "l1=[]\n",
        "for i in l:\n",
        "  square=i**2\n",
        "  l1.append(square)\n",
        "print(l1)\n"
      ],
      "metadata": {
        "colab": {
          "base_uri": "https://localhost:8080/"
        },
        "id": "UhpkQsS0W7dr",
        "outputId": "0cd80be1-8af9-41fb-af04-9b700e0413fb"
      },
      "execution_count": null,
      "outputs": [
        {
          "output_type": "stream",
          "name": "stdout",
          "text": [
            "[1, 4, 9, 16, 25, 36, 49]\n"
          ]
        }
      ]
    },
    {
      "cell_type": "markdown",
      "source": [
        "Take a list of numbers and display all the even numbers from the list"
      ],
      "metadata": {
        "id": "8mNm2SjAx_j_"
      }
    },
    {
      "cell_type": "code",
      "source": [
        "l1=[42,59,81,23,78,34,99,45,67,23,34,66]\n",
        "\n",
        "for i in l1:\n",
        "  if i%2==0:\n",
        "    print(i)"
      ],
      "metadata": {
        "colab": {
          "base_uri": "https://localhost:8080/"
        },
        "id": "6oRt396rxVrT",
        "outputId": "7d22370e-a60d-4a06-87d8-128a8522b443"
      },
      "execution_count": null,
      "outputs": [
        {
          "output_type": "stream",
          "name": "stdout",
          "text": [
            "42\n",
            "78\n",
            "34\n",
            "34\n",
            "66\n"
          ]
        }
      ]
    },
    {
      "cell_type": "markdown",
      "source": [
        "Take a list of numbers and display the count of even numbers"
      ],
      "metadata": {
        "id": "ZP72mh2b0pCG"
      }
    },
    {
      "cell_type": "code",
      "source": [
        "l1=[42,59,81,23,78,34,99,45,67,66]\n",
        "\n",
        "count=0 #counter\n",
        "\n",
        "for i in l1:\n",
        "  if i%2==0:\n",
        "    count=count+1 #if there is an even number, the counter will increment itself by 1\n",
        "\n",
        "  else:\n",
        "    pass\n",
        "print('the total number of even numbers in the list are',count)"
      ],
      "metadata": {
        "colab": {
          "base_uri": "https://localhost:8080/"
        },
        "id": "5og50YKL09oU",
        "outputId": "8dd70f91-1eb9-49cd-ebe4-d3c357a1d3d9"
      },
      "execution_count": null,
      "outputs": [
        {
          "output_type": "stream",
          "name": "stdout",
          "text": [
            "the total number of even numbers in the list are 4\n"
          ]
        }
      ]
    },
    {
      "cell_type": "markdown",
      "source": [
        "Take a list of numbers and display the count of both even and odd numbers"
      ],
      "metadata": {
        "id": "FplBQ7TL3sRD"
      }
    },
    {
      "cell_type": "code",
      "source": [
        "l1=[42,59,81,23,78,34,99,45,67,66]\n",
        "\n",
        "count_even=0\n",
        "count_odd=0\n",
        "\n",
        "for i in l1:\n",
        "  if i%2==0:\n",
        "    count_even=count_even+1\n",
        "\n",
        "  else:\n",
        "    count_odd=count_odd+1\n",
        "\n",
        "print('the total number of even numbers in the list are',count_even)\n",
        "print('the total number of odd numbers in the list are',count_odd)"
      ],
      "metadata": {
        "colab": {
          "base_uri": "https://localhost:8080/"
        },
        "id": "s_bej7v43xo3",
        "outputId": "2e149277-475c-4fbc-9573-9a42ad4ceb7d"
      },
      "execution_count": null,
      "outputs": [
        {
          "output_type": "stream",
          "name": "stdout",
          "text": [
            "the total number of even numbers in the list are 4\n",
            "the total number of odd numbers in the list are 6\n"
          ]
        }
      ]
    },
    {
      "cell_type": "markdown",
      "source": [
        "Take a number as input from the user and display the multiplication table (till 10) for that number"
      ],
      "metadata": {
        "id": "mJEMaNCM6gTt"
      }
    },
    {
      "cell_type": "code",
      "source": [
        "num=int(input(\"enter a number\"))\n",
        "\n",
        "for i in range(1,11):\n",
        "  print(num*i)"
      ],
      "metadata": {
        "colab": {
          "base_uri": "https://localhost:8080/"
        },
        "id": "mvA03VfW55BR",
        "outputId": "35db8810-c0c3-408f-a572-4d8603067a26"
      },
      "execution_count": null,
      "outputs": [
        {
          "output_type": "stream",
          "name": "stdout",
          "text": [
            "enter a number2\n",
            "2\n",
            "4\n",
            "6\n",
            "8\n",
            "10\n",
            "12\n",
            "14\n",
            "16\n",
            "18\n",
            "20\n"
          ]
        }
      ]
    },
    {
      "cell_type": "markdown",
      "source": [
        "Calculate the sum and average of all numbers from 1 to a given number by the user"
      ],
      "metadata": {
        "id": "HuI1zLE9AEkl"
      }
    },
    {
      "cell_type": "code",
      "source": [
        "n=int(input(\"enter a number\"))\n",
        "sum=0\n",
        "for i in range(1,n+1):\n",
        "  sum=sum+i\n",
        "print(\"sum of the numbers is\",sum)\n",
        "print(\"average of the numbers is\",sum/n)"
      ],
      "metadata": {
        "colab": {
          "base_uri": "https://localhost:8080/"
        },
        "id": "uLPYHQsM-bjO",
        "outputId": "75523ae9-fef8-482f-bebe-ddc1ee00f779"
      },
      "execution_count": null,
      "outputs": [
        {
          "output_type": "stream",
          "name": "stdout",
          "text": [
            "enter a number5\n",
            "sum of the numbers is 15\n",
            "average of the numbers is 3.0\n"
          ]
        }
      ]
    },
    {
      "cell_type": "markdown",
      "source": [
        "Statements\n",
        "\n",
        "1. PASS\n",
        "\n",
        "2. BREAK\n",
        "\n",
        "3. CONTINUE"
      ],
      "metadata": {
        "id": "QRBcCeQ6I0TI"
      }
    },
    {
      "cell_type": "code",
      "source": [
        "#pass - it makes the code segment inactive\n",
        "x=int(input(\"enter a number\"))\n",
        "y=int(input(\"enter a number\"))\n",
        "\n",
        "if x>y:\n",
        "  print(\"x is greater\")\n",
        "\n",
        "else:\n",
        "  pass #if y>x then no output"
      ],
      "metadata": {
        "colab": {
          "base_uri": "https://localhost:8080/"
        },
        "id": "oHMnANXZDv-v",
        "outputId": "7bfb7b52-d818-4d5d-e454-a3754717b0ab"
      },
      "execution_count": null,
      "outputs": [
        {
          "name": "stdout",
          "output_type": "stream",
          "text": [
            "enter a number10\n",
            "enter a number20\n"
          ]
        }
      ]
    },
    {
      "cell_type": "code",
      "source": [
        "#break - forcebly come out of the loop\n",
        "fruits=['mango','apple','pineapple','guava','grapes']\n",
        "\n",
        "for i in fruits:\n",
        "  if i=='pineapple':\n",
        "    break\n",
        "\n",
        "  print(i)"
      ],
      "metadata": {
        "colab": {
          "base_uri": "https://localhost:8080/"
        },
        "id": "OJK0_3qxJgb9",
        "outputId": "66a9be0b-2078-474e-e7b7-871b7355774e"
      },
      "execution_count": null,
      "outputs": [
        {
          "output_type": "stream",
          "name": "stdout",
          "text": [
            "mango\n",
            "apple\n"
          ]
        }
      ]
    },
    {
      "cell_type": "code",
      "source": [
        "name='Indian Ocean'\n",
        "\n",
        "for i in name:\n",
        "  if i=='O':\n",
        "    break\n",
        "\n",
        "  print(i)"
      ],
      "metadata": {
        "colab": {
          "base_uri": "https://localhost:8080/"
        },
        "id": "mJp-7CazLBFO",
        "outputId": "1748fc2d-3466-4301-bea1-f4006ac5a914"
      },
      "execution_count": null,
      "outputs": [
        {
          "output_type": "stream",
          "name": "stdout",
          "text": [
            "I\n",
            "n\n",
            "d\n",
            "i\n",
            "a\n",
            "n\n",
            " \n"
          ]
        }
      ]
    },
    {
      "cell_type": "code",
      "source": [
        "#continue - the element which is in the condition gets skipped but the loop will not stop iterating\n",
        "fruits=['mango','apple','pineapple','guava','grapes']\n",
        "\n",
        "for i in fruits:\n",
        "  if i=='pineapple':\n",
        "    continue\n",
        "\n",
        "  print(i)"
      ],
      "metadata": {
        "colab": {
          "base_uri": "https://localhost:8080/"
        },
        "id": "OkClpF9zLa1v",
        "outputId": "42bd2236-3e90-496d-f1c2-b53671e952bd"
      },
      "execution_count": null,
      "outputs": [
        {
          "output_type": "stream",
          "name": "stdout",
          "text": [
            "mango\n",
            "apple\n",
            "guava\n",
            "grapes\n"
          ]
        }
      ]
    },
    {
      "cell_type": "code",
      "source": [
        "name='Indian Ocean'\n",
        "\n",
        "for i in name:\n",
        "  if i=='O':\n",
        "    continue #O will be skipped and iteration will resume from 'c' onwards\n",
        "\n",
        "  print(i)"
      ],
      "metadata": {
        "colab": {
          "base_uri": "https://localhost:8080/"
        },
        "id": "eknbGDMWMlTH",
        "outputId": "3365759c-b1a9-4d0b-b007-2ee293242d57"
      },
      "execution_count": null,
      "outputs": [
        {
          "output_type": "stream",
          "name": "stdout",
          "text": [
            "I\n",
            "n\n",
            "d\n",
            "i\n",
            "a\n",
            "n\n",
            " \n",
            "c\n",
            "e\n",
            "a\n",
            "n\n"
          ]
        }
      ]
    },
    {
      "cell_type": "markdown",
      "source": [
        "Display all the numbers between 1 to 10 except 3 or 7"
      ],
      "metadata": {
        "id": "KVTX0oOGM9Gn"
      }
    },
    {
      "cell_type": "code",
      "source": [
        "for i in range(1,11):\n",
        "  if i==3 or i==7:\n",
        "    continue\n",
        "  print(i)"
      ],
      "metadata": {
        "colab": {
          "base_uri": "https://localhost:8080/"
        },
        "id": "19eyWylzPMZa",
        "outputId": "499baeda-9054-4ff3-a928-87e0e1c05542"
      },
      "execution_count": null,
      "outputs": [
        {
          "output_type": "stream",
          "name": "stdout",
          "text": [
            "1\n",
            "2\n",
            "4\n",
            "5\n",
            "6\n",
            "8\n",
            "9\n",
            "10\n"
          ]
        }
      ]
    },
    {
      "cell_type": "code",
      "source": [
        "n=[1,2,3,4,5,6,7,8,9,10]\n",
        "\n",
        "for i in n:\n",
        "  if i==3 or i==7:\n",
        "    continue\n",
        "\n",
        "  print(i)\n"
      ],
      "metadata": {
        "colab": {
          "base_uri": "https://localhost:8080/"
        },
        "id": "9YH6lSERRqcC",
        "outputId": "45416f2e-049b-4cd3-bd17-402ccd697395"
      },
      "execution_count": null,
      "outputs": [
        {
          "output_type": "stream",
          "name": "stdout",
          "text": [
            "1\n",
            "2\n",
            "4\n",
            "5\n",
            "6\n",
            "8\n",
            "9\n",
            "10\n"
          ]
        }
      ]
    },
    {
      "cell_type": "code",
      "source": [
        "name=[\"satya\",\"pooja\",\"aashi\",\"mahesh\"]\n",
        "for i in name:\n",
        "  if i==\"pooja\":\n",
        "    continue\n",
        "  print(i)\n"
      ],
      "metadata": {
        "colab": {
          "base_uri": "https://localhost:8080/"
        },
        "id": "XHU4q3sAR1nC",
        "outputId": "287dd1c3-ff4c-4eb3-dc3d-a26d0167c618"
      },
      "execution_count": null,
      "outputs": [
        {
          "output_type": "stream",
          "name": "stdout",
          "text": [
            "satya\n",
            "aashi\n",
            "mahesh\n"
          ]
        }
      ]
    },
    {
      "cell_type": "code",
      "source": [
        "P1=int(input('enter number of Items'))\n",
        "p2=200*P1 #price\n",
        "if p2>=2000:\n",
        "  discount=0.2*p2\n",
        "  print(\"after giving 20% of discount, the discount rate is\",discount)\n",
        "\n",
        "else:\n",
        "  print(p2)\n"
      ],
      "metadata": {
        "colab": {
          "base_uri": "https://localhost:8080/"
        },
        "id": "TPVRxJKIS3B-",
        "outputId": "24543b21-a551-4f38-f8c9-a33984a0fdd3"
      },
      "execution_count": null,
      "outputs": [
        {
          "output_type": "stream",
          "name": "stdout",
          "text": [
            "enter number of Items11\n",
            "after giving 20% of discount, the discount rate is 440.0\n"
          ]
        }
      ]
    },
    {
      "cell_type": "code",
      "source": [],
      "metadata": {
        "id": "yXS4EUZ4Y_Mf"
      },
      "execution_count": null,
      "outputs": []
    }
  ]
}