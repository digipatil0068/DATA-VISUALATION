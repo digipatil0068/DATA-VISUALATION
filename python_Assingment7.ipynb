{
  "nbformat": 4,
  "nbformat_minor": 0,
  "metadata": {
    "colab": {
      "provenance": [],
      "include_colab_link": true
    },
    "kernelspec": {
      "name": "python3",
      "display_name": "Python 3"
    },
    "language_info": {
      "name": "python"
    }
  },
  "cells": [
    {
      "cell_type": "markdown",
      "metadata": {
        "id": "view-in-github",
        "colab_type": "text"
      },
      "source": [
        "<a href=\"https://colab.research.google.com/github/digipatil0068/DATA-VISUALATION/blob/main/python_Assingment7.ipynb\" target=\"_parent\"><img src=\"https://colab.research.google.com/assets/colab-badge.svg\" alt=\"Open In Colab\"/></a>"
      ]
    },
    {
      "cell_type": "markdown",
      "source": [
        "Create a function which adds any given two numbers\n"
      ],
      "metadata": {
        "id": "eRPH--PZul05"
      }
    },
    {
      "cell_type": "code",
      "execution_count": null,
      "metadata": {
        "id": "yW99DUOcukTI"
      },
      "outputs": [],
      "source": [
        "def add(a,b):\n",
        "\n",
        "  c=a+b\n",
        "\n",
        "  print(c)"
      ]
    },
    {
      "cell_type": "code",
      "source": [
        "add(5,7)"
      ],
      "metadata": {
        "colab": {
          "base_uri": "https://localhost:8080/"
        },
        "id": "Q_38ImDvu0lv",
        "outputId": "7da930c1-9bb9-44bc-ebac-2f0ad9a74e62"
      },
      "execution_count": null,
      "outputs": [
        {
          "output_type": "stream",
          "name": "stdout",
          "text": [
            "12\n"
          ]
        }
      ]
    },
    {
      "cell_type": "code",
      "source": [
        "add(-5,9)"
      ],
      "metadata": {
        "colab": {
          "base_uri": "https://localhost:8080/"
        },
        "id": "byZZtJZTu3x0",
        "outputId": "3682b2e8-9996-4c38-9eb2-3c15380e25c5"
      },
      "execution_count": null,
      "outputs": [
        {
          "output_type": "stream",
          "name": "stdout",
          "text": [
            "4\n"
          ]
        }
      ]
    },
    {
      "cell_type": "code",
      "source": [
        "add(6,8)"
      ],
      "metadata": {
        "colab": {
          "base_uri": "https://localhost:8080/"
        },
        "id": "vDPubBPCu5xa",
        "outputId": "bfab7026-0662-436f-872b-d22a91b421fb"
      },
      "execution_count": null,
      "outputs": [
        {
          "output_type": "stream",
          "name": "stdout",
          "text": [
            "14\n"
          ]
        }
      ]
    },
    {
      "cell_type": "code",
      "source": [
        "add(7,8,9)"
      ],
      "metadata": {
        "colab": {
          "base_uri": "https://localhost:8080/",
          "height": 169
        },
        "id": "80NVt1kcvI0e",
        "outputId": "ac9240be-ed8c-4996-9a59-ab1878605229"
      },
      "execution_count": null,
      "outputs": [
        {
          "output_type": "error",
          "ename": "TypeError",
          "evalue": "ignored",
          "traceback": [
            "\u001b[0;31m---------------------------------------------------------------------------\u001b[0m",
            "\u001b[0;31mTypeError\u001b[0m                                 Traceback (most recent call last)",
            "\u001b[0;32m<ipython-input-5-15c11d8cbdc2>\u001b[0m in \u001b[0;36m<module>\u001b[0;34m\u001b[0m\n\u001b[0;32m----> 1\u001b[0;31m \u001b[0madd\u001b[0m\u001b[0;34m(\u001b[0m\u001b[0;36m7\u001b[0m\u001b[0;34m,\u001b[0m\u001b[0;36m8\u001b[0m\u001b[0;34m,\u001b[0m\u001b[0;36m9\u001b[0m\u001b[0;34m)\u001b[0m\u001b[0;34m\u001b[0m\u001b[0;34m\u001b[0m\u001b[0m\n\u001b[0m",
            "\u001b[0;31mTypeError\u001b[0m: add() takes 2 positional arguments but 3 were given"
          ]
        }
      ]
    },
    {
      "cell_type": "markdown",
      "source": [
        "Create a function which adds any given three numbers"
      ],
      "metadata": {
        "id": "C8SM9XqYvGEU"
      }
    },
    {
      "cell_type": "code",
      "source": [
        "def sum(a,b,c):\n",
        "\n",
        "  s=a+b+c\n",
        "\n",
        "  print(s)"
      ],
      "metadata": {
        "id": "srF8FD5Fu7C5"
      },
      "execution_count": null,
      "outputs": []
    },
    {
      "cell_type": "code",
      "source": [
        "sum(3,4,5)"
      ],
      "metadata": {
        "colab": {
          "base_uri": "https://localhost:8080/"
        },
        "id": "bbrPLpgtvhm4",
        "outputId": "bb5c6b8a-cc6f-409c-9ad3-da74cfdfc5ee"
      },
      "execution_count": null,
      "outputs": [
        {
          "output_type": "stream",
          "name": "stdout",
          "text": [
            "12\n"
          ]
        }
      ]
    },
    {
      "cell_type": "code",
      "source": [
        "sum(67,89,44)"
      ],
      "metadata": {
        "colab": {
          "base_uri": "https://localhost:8080/"
        },
        "id": "ZMJhBL5Ovi7L",
        "outputId": "e31ee3ea-257e-47c4-94c2-e16dd01ceae3"
      },
      "execution_count": null,
      "outputs": [
        {
          "output_type": "stream",
          "name": "stdout",
          "text": [
            "200\n"
          ]
        }
      ]
    },
    {
      "cell_type": "code",
      "source": [
        "sum(45,96)"
      ],
      "metadata": {
        "colab": {
          "base_uri": "https://localhost:8080/",
          "height": 169
        },
        "id": "yMtOveWPvl_i",
        "outputId": "42a764df-3863-4e27-d8ac-21fdfb5286a6"
      },
      "execution_count": null,
      "outputs": [
        {
          "output_type": "error",
          "ename": "TypeError",
          "evalue": "ignored",
          "traceback": [
            "\u001b[0;31m---------------------------------------------------------------------------\u001b[0m",
            "\u001b[0;31mTypeError\u001b[0m                                 Traceback (most recent call last)",
            "\u001b[0;32m<ipython-input-9-13bce7ca2a6f>\u001b[0m in \u001b[0;36m<module>\u001b[0;34m\u001b[0m\n\u001b[0;32m----> 1\u001b[0;31m \u001b[0msum\u001b[0m\u001b[0;34m(\u001b[0m\u001b[0;36m45\u001b[0m\u001b[0;34m,\u001b[0m\u001b[0;36m96\u001b[0m\u001b[0;34m)\u001b[0m\u001b[0;34m\u001b[0m\u001b[0;34m\u001b[0m\u001b[0m\n\u001b[0m",
            "\u001b[0;31mTypeError\u001b[0m: sum() missing 1 required positional argument: 'c'"
          ]
        }
      ]
    },
    {
      "cell_type": "code",
      "source": [
        "sum(7,9,4)"
      ],
      "metadata": {
        "colab": {
          "base_uri": "https://localhost:8080/"
        },
        "id": "Cc5cOghNvy49",
        "outputId": "17eebc30-a689-4c4b-eab1-8ccad6bd29cb"
      },
      "execution_count": null,
      "outputs": [
        {
          "output_type": "stream",
          "name": "stdout",
          "text": [
            "20\n"
          ]
        }
      ]
    },
    {
      "cell_type": "markdown",
      "source": [
        "Create a function which displays whole number output of division operation on 2 numbers"
      ],
      "metadata": {
        "id": "Eljo3KJHw8Hr"
      }
    },
    {
      "cell_type": "code",
      "source": [
        "def div(a,b):\n",
        "\n",
        "  d=a//b #whole number as output\n",
        "\n",
        "  print(d)"
      ],
      "metadata": {
        "id": "dTbeO685wx7S"
      },
      "execution_count": null,
      "outputs": []
    },
    {
      "cell_type": "code",
      "source": [
        "div(7,3)"
      ],
      "metadata": {
        "colab": {
          "base_uri": "https://localhost:8080/"
        },
        "id": "xFNPI1fTyPHY",
        "outputId": "35f1f066-a4e7-4bda-f88f-53d0da7781ca"
      },
      "execution_count": null,
      "outputs": [
        {
          "output_type": "stream",
          "name": "stdout",
          "text": [
            "2\n"
          ]
        }
      ]
    },
    {
      "cell_type": "code",
      "source": [
        "div(7,3.2)"
      ],
      "metadata": {
        "colab": {
          "base_uri": "https://localhost:8080/"
        },
        "id": "p5_iirqNyR9z",
        "outputId": "2585252d-efa8-44bd-c5ce-946b853c8ad5"
      },
      "execution_count": null,
      "outputs": [
        {
          "output_type": "stream",
          "name": "stdout",
          "text": [
            "2.0\n"
          ]
        }
      ]
    },
    {
      "cell_type": "markdown",
      "source": [
        "Create a function which displays addition, subtraction, multiplication and division of 2 numbers"
      ],
      "metadata": {
        "id": "y9wKa1J3z4nK"
      }
    },
    {
      "cell_type": "code",
      "source": [
        "def compute(a,b):\n",
        "\n",
        "  p=a+b\n",
        "  q=a-b\n",
        "  r=a*b\n",
        "  s=a/b\n",
        "\n",
        "  print(p,q,r,s)"
      ],
      "metadata": {
        "id": "inTuJDjCzlys"
      },
      "execution_count": null,
      "outputs": []
    },
    {
      "cell_type": "code",
      "source": [
        "compute(12,5)"
      ],
      "metadata": {
        "colab": {
          "base_uri": "https://localhost:8080/"
        },
        "id": "g8Fn8Qkd0PGb",
        "outputId": "72e16654-5551-4430-8529-196d1818cb49"
      },
      "execution_count": null,
      "outputs": [
        {
          "output_type": "stream",
          "name": "stdout",
          "text": [
            "17 7 60 2.4\n"
          ]
        }
      ]
    },
    {
      "cell_type": "code",
      "source": [
        "def calc(a,b):\n",
        "\n",
        "  s=a+b\n",
        "  p=a-b\n",
        "  d=a*b\n",
        "  k=a/b\n",
        "\n",
        "  print(s)\n",
        "  print(p)\n",
        "  print(d)\n",
        "  print(k)"
      ],
      "metadata": {
        "id": "XzpvtSrY0Uk6"
      },
      "execution_count": null,
      "outputs": []
    },
    {
      "cell_type": "code",
      "source": [
        "calc(6,7)"
      ],
      "metadata": {
        "colab": {
          "base_uri": "https://localhost:8080/"
        },
        "id": "UpDdvuuO01TL",
        "outputId": "198eac44-d1e0-49ef-a5f5-86086b9002a5"
      },
      "execution_count": null,
      "outputs": [
        {
          "output_type": "stream",
          "name": "stdout",
          "text": [
            "13\n",
            "-1\n",
            "42\n",
            "0.8571428571428571\n"
          ]
        }
      ]
    },
    {
      "cell_type": "markdown",
      "source": [
        "Create a function which takes name and age from the user and display the age of the person"
      ],
      "metadata": {
        "id": "9Zi_I5rs1th-"
      }
    },
    {
      "cell_type": "code",
      "source": [
        "def info(name, age):\n",
        "  print(\"Hi, your age is\",age)"
      ],
      "metadata": {
        "id": "e_WRo_yN1Xss"
      },
      "execution_count": null,
      "outputs": []
    },
    {
      "cell_type": "code",
      "source": [
        "info(\"Ravi\",45)"
      ],
      "metadata": {
        "colab": {
          "base_uri": "https://localhost:8080/"
        },
        "id": "Ps1LWJWD3nLu",
        "outputId": "5e071de6-2dc2-4f1c-ab27-ae4d9697aa79"
      },
      "execution_count": null,
      "outputs": [
        {
          "output_type": "stream",
          "name": "stdout",
          "text": [
            "Hi, your age is 45\n"
          ]
        }
      ]
    },
    {
      "cell_type": "code",
      "source": [
        "info(\"Meera\",27)"
      ],
      "metadata": {
        "colab": {
          "base_uri": "https://localhost:8080/"
        },
        "id": "WXya00w65Cm6",
        "outputId": "00693a95-55d5-45c9-c1a0-7efff755ebf2"
      },
      "execution_count": null,
      "outputs": [
        {
          "output_type": "stream",
          "name": "stdout",
          "text": [
            "Hi, your age is 27\n"
          ]
        }
      ]
    },
    {
      "cell_type": "code",
      "source": [
        "def info_new(name, age):\n",
        "  print(\"Hi\", name,\"your age is\",age)"
      ],
      "metadata": {
        "id": "R5YRGNnr5HgJ"
      },
      "execution_count": null,
      "outputs": []
    },
    {
      "cell_type": "code",
      "source": [
        "info_new(\"Meera\",27)"
      ],
      "metadata": {
        "colab": {
          "base_uri": "https://localhost:8080/"
        },
        "id": "mej9Y3RT5Mlp",
        "outputId": "a7d9e27f-8642-444e-e2ac-3cf65937d7ad"
      },
      "execution_count": null,
      "outputs": [
        {
          "output_type": "stream",
          "name": "stdout",
          "text": [
            "Hi Meera your age is 27\n"
          ]
        }
      ]
    },
    {
      "cell_type": "markdown",
      "source": [
        "Create a function which takes name and salary as input from the user and display the name and salary of the person.\n",
        "\n",
        "In case the salary is not mentioned, take default salary as 15,000"
      ],
      "metadata": {
        "id": "lZZaJRbz5ntT"
      }
    },
    {
      "cell_type": "code",
      "source": [
        "def data(name, salary=15000):\n",
        "  print(\"Hi\",name,\"your current salary is\",salary,\"per month\")"
      ],
      "metadata": {
        "id": "_XFfj8xq4ukJ"
      },
      "execution_count": null,
      "outputs": []
    },
    {
      "cell_type": "code",
      "source": [
        "data('Rahul',60000)"
      ],
      "metadata": {
        "colab": {
          "base_uri": "https://localhost:8080/"
        },
        "id": "3WJjFHbZ6N4V",
        "outputId": "a3aede9f-45b5-49fa-ca33-12e93d00685d"
      },
      "execution_count": null,
      "outputs": [
        {
          "output_type": "stream",
          "name": "stdout",
          "text": [
            "Hi Rahul your current salary is 60000 per month\n"
          ]
        }
      ]
    },
    {
      "cell_type": "code",
      "source": [
        "data('Keshav',)"
      ],
      "metadata": {
        "colab": {
          "base_uri": "https://localhost:8080/"
        },
        "id": "UdN-WGTC6Qwi",
        "outputId": "31756bab-2519-484a-a782-e119065584ac"
      },
      "execution_count": null,
      "outputs": [
        {
          "output_type": "stream",
          "name": "stdout",
          "text": [
            "Hi Keshav your current salary is 15000 per month\n"
          ]
        }
      ]
    },
    {
      "cell_type": "markdown",
      "source": [
        "Create a function which adds all the elements given in a list of numbers"
      ],
      "metadata": {
        "id": "dZqnI-ZF7Oxs"
      }
    },
    {
      "cell_type": "code",
      "source": [
        "def add_num(numbers):\n",
        "  sum=0\n",
        "\n",
        "  for i in numbers:\n",
        "    sum=sum+i\n",
        "\n",
        "  print(sum)"
      ],
      "metadata": {
        "id": "zH7vNXHD6YOH"
      },
      "execution_count": null,
      "outputs": []
    },
    {
      "cell_type": "code",
      "source": [
        "add_num((2,3,4,5))"
      ],
      "metadata": {
        "colab": {
          "base_uri": "https://localhost:8080/"
        },
        "id": "RX6RdpqS86N_",
        "outputId": "1de71128-7877-416d-fab9-11486b00691d"
      },
      "execution_count": null,
      "outputs": [
        {
          "output_type": "stream",
          "name": "stdout",
          "text": [
            "14\n"
          ]
        }
      ]
    },
    {
      "cell_type": "code",
      "source": [
        "add_num((3,-4,7,9))"
      ],
      "metadata": {
        "colab": {
          "base_uri": "https://localhost:8080/"
        },
        "id": "A34x0U-_9BfI",
        "outputId": "cc651c8c-a6f5-4414-8006-2cd579ba43be"
      },
      "execution_count": null,
      "outputs": [
        {
          "output_type": "stream",
          "name": "stdout",
          "text": [
            "15\n"
          ]
        }
      ]
    },
    {
      "cell_type": "code",
      "source": [
        "def add_num(numbers):\n",
        "  sum=0\n",
        "  for i in numbers:\n",
        "    sum=sum+i\n",
        "\n",
        "  print(sum)\n",
        "\n",
        "add_num((2,7,8,9))"
      ],
      "metadata": {
        "colab": {
          "base_uri": "https://localhost:8080/"
        },
        "id": "mQod2WAdAs2D",
        "outputId": "87e024e2-1b18-4ef2-caa0-d02183713b39"
      },
      "execution_count": null,
      "outputs": [
        {
          "output_type": "stream",
          "name": "stdout",
          "text": [
            "26\n"
          ]
        }
      ]
    },
    {
      "cell_type": "code",
      "source": [
        "add_num([6,7,8])"
      ],
      "metadata": {
        "colab": {
          "base_uri": "https://localhost:8080/"
        },
        "id": "9t8MUNqvBODD",
        "outputId": "793b2a8f-2317-4b36-9be1-4daacd271c59"
      },
      "execution_count": null,
      "outputs": [
        {
          "output_type": "stream",
          "name": "stdout",
          "text": [
            "21\n"
          ]
        }
      ]
    },
    {
      "cell_type": "markdown",
      "source": [
        "Create a function which displays the largest number out of three given numbers"
      ],
      "metadata": {
        "id": "iIzwcDj9FRfa"
      }
    },
    {
      "cell_type": "code",
      "source": [
        "def max(a,b,c):\n",
        "\n",
        "  if a>b and a>c:\n",
        "    print(\"a is greatest\")\n",
        "\n",
        "  elif b>a and b>c:\n",
        "    print(\"b is greatest\")\n",
        "\n",
        "  else:\n",
        "    print(\"c is greatest\")"
      ],
      "metadata": {
        "id": "Qqg-yP2pBhS5"
      },
      "execution_count": null,
      "outputs": []
    },
    {
      "cell_type": "code",
      "source": [
        "max(3,4,7)"
      ],
      "metadata": {
        "colab": {
          "base_uri": "https://localhost:8080/"
        },
        "id": "lyb-q0nXITgq",
        "outputId": "f24c28b3-2b39-4d10-ce9b-b3217bfdb511"
      },
      "execution_count": null,
      "outputs": [
        {
          "output_type": "stream",
          "name": "stdout",
          "text": [
            "c is greatest\n"
          ]
        }
      ]
    },
    {
      "cell_type": "markdown",
      "source": [
        "Create a function which computes area and circumference of a circle"
      ],
      "metadata": {
        "id": "8dhPtt_2IjoG"
      }
    },
    {
      "cell_type": "code",
      "source": [
        "#circumference = 2*pi*r\n",
        "#area = pi*r^2\n",
        "\n",
        "def area_circle(r):\n",
        "\n",
        "  area=3.14*r**2\n",
        "  circum=2*3.14*r\n",
        "\n",
        "  print(circum)\n",
        "  print(area)"
      ],
      "metadata": {
        "id": "ikYPqr5PIVSr"
      },
      "execution_count": null,
      "outputs": []
    },
    {
      "cell_type": "code",
      "source": [
        "area_circle(5)"
      ],
      "metadata": {
        "colab": {
          "base_uri": "https://localhost:8080/"
        },
        "id": "C4bkGV-BK3Pk",
        "outputId": "18e18905-c51d-42e4-c3f3-7e4d6b7e95f4"
      },
      "execution_count": null,
      "outputs": [
        {
          "output_type": "stream",
          "name": "stdout",
          "text": [
            "31.400000000000002\n",
            "78.5\n"
          ]
        }
      ]
    },
    {
      "cell_type": "markdown",
      "source": [
        "Create a function which computes area and perimeter of a rectangle"
      ],
      "metadata": {
        "id": "ZhJni8dKJjC0"
      }
    },
    {
      "cell_type": "code",
      "source": [
        "#area = l*b\n",
        "#perimeter = 2(l+b)\n",
        "\n",
        "def rect_info(a,b):\n",
        "  Area= a*b\n",
        "  Perimeter= 2*(a+b)\n",
        "  print(Area)\n",
        "  print(Perimeter)"
      ],
      "metadata": {
        "id": "LzvFU3FXJokr"
      },
      "execution_count": null,
      "outputs": []
    },
    {
      "cell_type": "code",
      "source": [
        "rect_info(10,8)"
      ],
      "metadata": {
        "colab": {
          "base_uri": "https://localhost:8080/"
        },
        "id": "jXRsA103KUfq",
        "outputId": "d960b2ce-2a4e-4742-e0e9-fa2a9b8cbed1"
      },
      "execution_count": null,
      "outputs": [
        {
          "output_type": "stream",
          "name": "stdout",
          "text": [
            "80\n",
            "36\n"
          ]
        }
      ]
    },
    {
      "cell_type": "markdown",
      "source": [
        "\n",
        "Create a function which displays all the even numbers given in the list of numbers in a new separate list"
      ],
      "metadata": {
        "id": "bNUUeGSpM1h7"
      }
    },
    {
      "cell_type": "code",
      "source": [
        "def even(numbers):\n",
        "  elist=[] #empty list which will hold all even numbers from the list of numbers\n",
        "\n",
        "  for i in numbers:\n",
        "    if i%2==0:\n",
        "      elist.append(i)\n",
        "\n",
        "  print(elist)"
      ],
      "metadata": {
        "id": "mgQ8t002MWdi"
      },
      "execution_count": null,
      "outputs": []
    },
    {
      "cell_type": "code",
      "source": [
        "even([3,4,5,2,7,9,6])"
      ],
      "metadata": {
        "colab": {
          "base_uri": "https://localhost:8080/"
        },
        "id": "9ZcpAFbAOzRi",
        "outputId": "e6b51191-090b-4600-ae09-de7824cd4c65"
      },
      "execution_count": null,
      "outputs": [
        {
          "output_type": "stream",
          "name": "stdout",
          "text": [
            "[4, 2, 6]\n"
          ]
        }
      ]
    },
    {
      "cell_type": "code",
      "source": [],
      "metadata": {
        "id": "VvpDvng7RpvI"
      },
      "execution_count": null,
      "outputs": []
    }
  ]
}